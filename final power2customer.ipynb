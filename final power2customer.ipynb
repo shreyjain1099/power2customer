{
 "cells": [
  {
   "cell_type": "code",
   "execution_count": 1,
   "metadata": {},
   "outputs": [],
   "source": [
    "from selenium import webdriver\n",
    "from selenium.webdriver.common.action_chains import ActionChains\n",
    "import pandas as pd\n",
    "import time\n",
    "chrome_path = r\"C:\\Users\\Lenovo\\Desktop\\chromedriver.exe\""
   ]
  },
  {
   "cell_type": "code",
   "execution_count": 2,
   "metadata": {},
   "outputs": [],
   "source": [
    "import datetime\n",
    "start_date = datetime.date(2019, 6, 13)\n",
    "end_date   = datetime.date(2019, 6, 15)\n",
    "date = pd.date_range(start_date, end_date)\n",
    "y = []\n",
    "for testdate in date:\n",
    "    z = datetime.datetime.strptime(str(testdate.date()), '%Y-%m-%d').strftime('%d/%m/%y')\n",
    "    y.append(z)    "
   ]
  },
  {
   "cell_type": "code",
   "execution_count": 3,
   "metadata": {},
   "outputs": [],
   "source": [
    "driver = webdriver.Chrome(chrome_path)\n",
    "driver.get(\"https://www.power2customer.com/\")\n",
    "time.sleep(1)\n",
    "inputElement = driver.find_element_by_id(\"loginName\")\n",
    "inputElement.send_keys('parakh')\n",
    "inputElement = driver.find_element_by_id(\"loginPassword\")\n",
    "inputElement.send_keys('15356')\n",
    "#time.sleep(2)\n",
    "inputElement.submit() \n",
    "performance_report = driver.find_element_by_link_text('Performance Reports')\n",
    "hover = ActionChains(driver).move_to_element(performance_report)\n",
    "hover.perform()\n",
    "driver.find_element_by_id(\"submenu3_1\").click()"
   ]
  },
  {
   "cell_type": "code",
   "execution_count": 4,
   "metadata": {},
   "outputs": [],
   "source": [
    "for finaldates in y:\n",
    "    #print(finaldates)\n",
    "    #time.sleep(1)\n",
    "\n",
    "    javascript_date = \"document.getElementsByClassName('subpagetext')[0].value = '\"+finaldates+\"';\"\n",
    "    driver.execute_script(javascript_date) \n",
    "\n",
    "    driver.find_element_by_xpath('/html/body/div/table[2]/tbody/tr/td[2]/center/form/table[2]/tbody/tr[3]/td/input[1]').click()\n",
    "    table = driver.find_element_by_xpath('/html/body/div/table[2]/tbody/tr/td[2]/center')\n",
    "    rows=table.text.split('\\n')\n",
    "    if len(rows) > 5:\n",
    "        c\n",
    "    else:\n",
    "        driver.find_element_by_xpath('//*[@id=\"BUTTON1\"]').click()\n"
   ]
  },
  {
   "cell_type": "code",
   "execution_count": null,
   "metadata": {},
   "outputs": [],
   "source": []
  }
 ],
 "metadata": {
  "kernelspec": {
   "display_name": "Python 3",
   "language": "python",
   "name": "python3"
  },
  "language_info": {
   "codemirror_mode": {
    "name": "ipython",
    "version": 3
   },
   "file_extension": ".py",
   "mimetype": "text/x-python",
   "name": "python",
   "nbconvert_exporter": "python",
   "pygments_lexer": "ipython3",
   "version": "3.7.3"
  }
 },
 "nbformat": 4,
 "nbformat_minor": 2
}
